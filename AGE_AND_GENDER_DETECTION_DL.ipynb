{
  "nbformat": 4,
  "nbformat_minor": 0,
  "metadata": {
    "colab": {
      "provenance": []
    },
    "kernelspec": {
      "name": "python3",
      "display_name": "Python 3"
    },
    "language_info": {
      "name": "python"
    }
  },
  "cells": [
    {
      "cell_type": "code",
      "execution_count": 3,
      "metadata": {
        "colab": {
          "base_uri": "https://localhost:8080/"
        },
        "id": "xVIwmtRg9oP1",
        "outputId": "a9aff66b-f312-4403-fa13-793ca6e4da76"
      },
      "outputs": [
        {
          "output_type": "stream",
          "name": "stdout",
          "text": [
            "Mounted at /content/drive\n"
          ]
        }
      ],
      "source": [
        "from google.colab import drive\n",
        "drive.mount('/content/drive')"
      ]
    },
    {
      "cell_type": "code",
      "source": [
        "import numpy as np\n",
        "import pandas as pd"
      ],
      "metadata": {
        "id": "8PAImAsj91Lv"
      },
      "execution_count": 4,
      "outputs": []
    },
    {
      "cell_type": "code",
      "source": [
        "dataf = pd.read_csv('/content/drive/MyDrive/age_gender.csv')"
      ],
      "metadata": {
        "id": "QwMDfZbs9t28"
      },
      "execution_count": 5,
      "outputs": []
    },
    {
      "cell_type": "code",
      "source": [
        "dataf.head()"
      ],
      "metadata": {
        "colab": {
          "base_uri": "https://localhost:8080/",
          "height": 206
        },
        "id": "1Q4mOAX_949J",
        "outputId": "bb633b7a-23be-42a6-c06e-d3077cb6330c"
      },
      "execution_count": 6,
      "outputs": [
        {
          "output_type": "execute_result",
          "data": {
            "text/plain": [
              "   age  ethnicity  gender                        img_name  \\\n",
              "0    1          2       0  20161219203650636.jpg.chip.jpg   \n",
              "1    1          2       0  20161219222752047.jpg.chip.jpg   \n",
              "2    1          2       0  20161219222832191.jpg.chip.jpg   \n",
              "3    1          2       0  20161220144911423.jpg.chip.jpg   \n",
              "4    1          2       0  20161220144914327.jpg.chip.jpg   \n",
              "\n",
              "                                              pixels  \n",
              "0  129 128 128 126 127 130 133 135 139 142 145 14...  \n",
              "1  164 74 111 168 169 171 175 182 184 188 193 199...  \n",
              "2  67 70 71 70 69 67 70 79 90 103 116 132 145 155...  \n",
              "3  193 197 198 200 199 200 202 203 204 205 208 21...  \n",
              "4  202 205 209 210 209 209 210 211 212 214 218 21...  "
            ],
            "text/html": [
              "\n",
              "  <div id=\"df-2022762f-7b7b-4141-b290-2ffe38018389\" class=\"colab-df-container\">\n",
              "    <div>\n",
              "<style scoped>\n",
              "    .dataframe tbody tr th:only-of-type {\n",
              "        vertical-align: middle;\n",
              "    }\n",
              "\n",
              "    .dataframe tbody tr th {\n",
              "        vertical-align: top;\n",
              "    }\n",
              "\n",
              "    .dataframe thead th {\n",
              "        text-align: right;\n",
              "    }\n",
              "</style>\n",
              "<table border=\"1\" class=\"dataframe\">\n",
              "  <thead>\n",
              "    <tr style=\"text-align: right;\">\n",
              "      <th></th>\n",
              "      <th>age</th>\n",
              "      <th>ethnicity</th>\n",
              "      <th>gender</th>\n",
              "      <th>img_name</th>\n",
              "      <th>pixels</th>\n",
              "    </tr>\n",
              "  </thead>\n",
              "  <tbody>\n",
              "    <tr>\n",
              "      <th>0</th>\n",
              "      <td>1</td>\n",
              "      <td>2</td>\n",
              "      <td>0</td>\n",
              "      <td>20161219203650636.jpg.chip.jpg</td>\n",
              "      <td>129 128 128 126 127 130 133 135 139 142 145 14...</td>\n",
              "    </tr>\n",
              "    <tr>\n",
              "      <th>1</th>\n",
              "      <td>1</td>\n",
              "      <td>2</td>\n",
              "      <td>0</td>\n",
              "      <td>20161219222752047.jpg.chip.jpg</td>\n",
              "      <td>164 74 111 168 169 171 175 182 184 188 193 199...</td>\n",
              "    </tr>\n",
              "    <tr>\n",
              "      <th>2</th>\n",
              "      <td>1</td>\n",
              "      <td>2</td>\n",
              "      <td>0</td>\n",
              "      <td>20161219222832191.jpg.chip.jpg</td>\n",
              "      <td>67 70 71 70 69 67 70 79 90 103 116 132 145 155...</td>\n",
              "    </tr>\n",
              "    <tr>\n",
              "      <th>3</th>\n",
              "      <td>1</td>\n",
              "      <td>2</td>\n",
              "      <td>0</td>\n",
              "      <td>20161220144911423.jpg.chip.jpg</td>\n",
              "      <td>193 197 198 200 199 200 202 203 204 205 208 21...</td>\n",
              "    </tr>\n",
              "    <tr>\n",
              "      <th>4</th>\n",
              "      <td>1</td>\n",
              "      <td>2</td>\n",
              "      <td>0</td>\n",
              "      <td>20161220144914327.jpg.chip.jpg</td>\n",
              "      <td>202 205 209 210 209 209 210 211 212 214 218 21...</td>\n",
              "    </tr>\n",
              "  </tbody>\n",
              "</table>\n",
              "</div>\n",
              "    <div class=\"colab-df-buttons\">\n",
              "\n",
              "  <div class=\"colab-df-container\">\n",
              "    <button class=\"colab-df-convert\" onclick=\"convertToInteractive('df-2022762f-7b7b-4141-b290-2ffe38018389')\"\n",
              "            title=\"Convert this dataframe to an interactive table.\"\n",
              "            style=\"display:none;\">\n",
              "\n",
              "  <svg xmlns=\"http://www.w3.org/2000/svg\" height=\"24px\" viewBox=\"0 -960 960 960\">\n",
              "    <path d=\"M120-120v-720h720v720H120Zm60-500h600v-160H180v160Zm220 220h160v-160H400v160Zm0 220h160v-160H400v160ZM180-400h160v-160H180v160Zm440 0h160v-160H620v160ZM180-180h160v-160H180v160Zm440 0h160v-160H620v160Z\"/>\n",
              "  </svg>\n",
              "    </button>\n",
              "\n",
              "  <style>\n",
              "    .colab-df-container {\n",
              "      display:flex;\n",
              "      gap: 12px;\n",
              "    }\n",
              "\n",
              "    .colab-df-convert {\n",
              "      background-color: #E8F0FE;\n",
              "      border: none;\n",
              "      border-radius: 50%;\n",
              "      cursor: pointer;\n",
              "      display: none;\n",
              "      fill: #1967D2;\n",
              "      height: 32px;\n",
              "      padding: 0 0 0 0;\n",
              "      width: 32px;\n",
              "    }\n",
              "\n",
              "    .colab-df-convert:hover {\n",
              "      background-color: #E2EBFA;\n",
              "      box-shadow: 0px 1px 2px rgba(60, 64, 67, 0.3), 0px 1px 3px 1px rgba(60, 64, 67, 0.15);\n",
              "      fill: #174EA6;\n",
              "    }\n",
              "\n",
              "    .colab-df-buttons div {\n",
              "      margin-bottom: 4px;\n",
              "    }\n",
              "\n",
              "    [theme=dark] .colab-df-convert {\n",
              "      background-color: #3B4455;\n",
              "      fill: #D2E3FC;\n",
              "    }\n",
              "\n",
              "    [theme=dark] .colab-df-convert:hover {\n",
              "      background-color: #434B5C;\n",
              "      box-shadow: 0px 1px 3px 1px rgba(0, 0, 0, 0.15);\n",
              "      filter: drop-shadow(0px 1px 2px rgba(0, 0, 0, 0.3));\n",
              "      fill: #FFFFFF;\n",
              "    }\n",
              "  </style>\n",
              "\n",
              "    <script>\n",
              "      const buttonEl =\n",
              "        document.querySelector('#df-2022762f-7b7b-4141-b290-2ffe38018389 button.colab-df-convert');\n",
              "      buttonEl.style.display =\n",
              "        google.colab.kernel.accessAllowed ? 'block' : 'none';\n",
              "\n",
              "      async function convertToInteractive(key) {\n",
              "        const element = document.querySelector('#df-2022762f-7b7b-4141-b290-2ffe38018389');\n",
              "        const dataTable =\n",
              "          await google.colab.kernel.invokeFunction('convertToInteractive',\n",
              "                                                    [key], {});\n",
              "        if (!dataTable) return;\n",
              "\n",
              "        const docLinkHtml = 'Like what you see? Visit the ' +\n",
              "          '<a target=\"_blank\" href=https://colab.research.google.com/notebooks/data_table.ipynb>data table notebook</a>'\n",
              "          + ' to learn more about interactive tables.';\n",
              "        element.innerHTML = '';\n",
              "        dataTable['output_type'] = 'display_data';\n",
              "        await google.colab.output.renderOutput(dataTable, element);\n",
              "        const docLink = document.createElement('div');\n",
              "        docLink.innerHTML = docLinkHtml;\n",
              "        element.appendChild(docLink);\n",
              "      }\n",
              "    </script>\n",
              "  </div>\n",
              "\n",
              "\n",
              "<div id=\"df-8ac6de34-b5dc-465f-ab80-79aeebefac28\">\n",
              "  <button class=\"colab-df-quickchart\" onclick=\"quickchart('df-8ac6de34-b5dc-465f-ab80-79aeebefac28')\"\n",
              "            title=\"Suggest charts.\"\n",
              "            style=\"display:none;\">\n",
              "\n",
              "<svg xmlns=\"http://www.w3.org/2000/svg\" height=\"24px\"viewBox=\"0 0 24 24\"\n",
              "     width=\"24px\">\n",
              "    <g>\n",
              "        <path d=\"M19 3H5c-1.1 0-2 .9-2 2v14c0 1.1.9 2 2 2h14c1.1 0 2-.9 2-2V5c0-1.1-.9-2-2-2zM9 17H7v-7h2v7zm4 0h-2V7h2v10zm4 0h-2v-4h2v4z\"/>\n",
              "    </g>\n",
              "</svg>\n",
              "  </button>\n",
              "\n",
              "<style>\n",
              "  .colab-df-quickchart {\n",
              "      --bg-color: #E8F0FE;\n",
              "      --fill-color: #1967D2;\n",
              "      --hover-bg-color: #E2EBFA;\n",
              "      --hover-fill-color: #174EA6;\n",
              "      --disabled-fill-color: #AAA;\n",
              "      --disabled-bg-color: #DDD;\n",
              "  }\n",
              "\n",
              "  [theme=dark] .colab-df-quickchart {\n",
              "      --bg-color: #3B4455;\n",
              "      --fill-color: #D2E3FC;\n",
              "      --hover-bg-color: #434B5C;\n",
              "      --hover-fill-color: #FFFFFF;\n",
              "      --disabled-bg-color: #3B4455;\n",
              "      --disabled-fill-color: #666;\n",
              "  }\n",
              "\n",
              "  .colab-df-quickchart {\n",
              "    background-color: var(--bg-color);\n",
              "    border: none;\n",
              "    border-radius: 50%;\n",
              "    cursor: pointer;\n",
              "    display: none;\n",
              "    fill: var(--fill-color);\n",
              "    height: 32px;\n",
              "    padding: 0;\n",
              "    width: 32px;\n",
              "  }\n",
              "\n",
              "  .colab-df-quickchart:hover {\n",
              "    background-color: var(--hover-bg-color);\n",
              "    box-shadow: 0 1px 2px rgba(60, 64, 67, 0.3), 0 1px 3px 1px rgba(60, 64, 67, 0.15);\n",
              "    fill: var(--button-hover-fill-color);\n",
              "  }\n",
              "\n",
              "  .colab-df-quickchart-complete:disabled,\n",
              "  .colab-df-quickchart-complete:disabled:hover {\n",
              "    background-color: var(--disabled-bg-color);\n",
              "    fill: var(--disabled-fill-color);\n",
              "    box-shadow: none;\n",
              "  }\n",
              "\n",
              "  .colab-df-spinner {\n",
              "    border: 2px solid var(--fill-color);\n",
              "    border-color: transparent;\n",
              "    border-bottom-color: var(--fill-color);\n",
              "    animation:\n",
              "      spin 1s steps(1) infinite;\n",
              "  }\n",
              "\n",
              "  @keyframes spin {\n",
              "    0% {\n",
              "      border-color: transparent;\n",
              "      border-bottom-color: var(--fill-color);\n",
              "      border-left-color: var(--fill-color);\n",
              "    }\n",
              "    20% {\n",
              "      border-color: transparent;\n",
              "      border-left-color: var(--fill-color);\n",
              "      border-top-color: var(--fill-color);\n",
              "    }\n",
              "    30% {\n",
              "      border-color: transparent;\n",
              "      border-left-color: var(--fill-color);\n",
              "      border-top-color: var(--fill-color);\n",
              "      border-right-color: var(--fill-color);\n",
              "    }\n",
              "    40% {\n",
              "      border-color: transparent;\n",
              "      border-right-color: var(--fill-color);\n",
              "      border-top-color: var(--fill-color);\n",
              "    }\n",
              "    60% {\n",
              "      border-color: transparent;\n",
              "      border-right-color: var(--fill-color);\n",
              "    }\n",
              "    80% {\n",
              "      border-color: transparent;\n",
              "      border-right-color: var(--fill-color);\n",
              "      border-bottom-color: var(--fill-color);\n",
              "    }\n",
              "    90% {\n",
              "      border-color: transparent;\n",
              "      border-bottom-color: var(--fill-color);\n",
              "    }\n",
              "  }\n",
              "</style>\n",
              "\n",
              "  <script>\n",
              "    async function quickchart(key) {\n",
              "      const quickchartButtonEl =\n",
              "        document.querySelector('#' + key + ' button');\n",
              "      quickchartButtonEl.disabled = true;  // To prevent multiple clicks.\n",
              "      quickchartButtonEl.classList.add('colab-df-spinner');\n",
              "      try {\n",
              "        const charts = await google.colab.kernel.invokeFunction(\n",
              "            'suggestCharts', [key], {});\n",
              "      } catch (error) {\n",
              "        console.error('Error during call to suggestCharts:', error);\n",
              "      }\n",
              "      quickchartButtonEl.classList.remove('colab-df-spinner');\n",
              "      quickchartButtonEl.classList.add('colab-df-quickchart-complete');\n",
              "    }\n",
              "    (() => {\n",
              "      let quickchartButtonEl =\n",
              "        document.querySelector('#df-8ac6de34-b5dc-465f-ab80-79aeebefac28 button');\n",
              "      quickchartButtonEl.style.display =\n",
              "        google.colab.kernel.accessAllowed ? 'block' : 'none';\n",
              "    })();\n",
              "  </script>\n",
              "</div>\n",
              "    </div>\n",
              "  </div>\n"
            ]
          },
          "metadata": {},
          "execution_count": 6
        }
      ]
    },
    {
      "cell_type": "code",
      "source": [
        "import keras\n",
        "import json\n",
        "import sys\n",
        "import tensorflow as tf\n",
        "from keras.layers import Input\n",
        "import numpy as np\n",
        "import argparse\n",
        "#from keras_applications.resnext import ResNeXt50\n",
        "from keras.utils import get_file\n",
        "#import face_recognition"
      ],
      "metadata": {
        "id": "Y4OdHoLp97sq"
      },
      "execution_count": 7,
      "outputs": []
    },
    {
      "cell_type": "code",
      "source": [
        "import matplotlib.pyplot as plt\n",
        "import seaborn as sns\n",
        "import cv2\n",
        "from PIL import Image"
      ],
      "metadata": {
        "id": "y_WpftM499hE"
      },
      "execution_count": 8,
      "outputs": []
    },
    {
      "cell_type": "code",
      "source": [
        "df= pd.DataFrame(dataf)\n",
        "df['pixels'] = df['pixels'].apply(lambda x: np.array(x.split(), dtype='float32'))\n",
        "df['pixels'] = df['pixels'].apply(lambda x: np.reshape(x, (48, 48)))\n",
        "df['pixels'] = df['pixels'] / 255.0\n",
        "im = df['pixels'][0]\n",
        "im\n",
        "plt.imshow(im, cmap='gray')\n",
        "plt.axis('off')"
      ],
      "metadata": {
        "colab": {
          "base_uri": "https://localhost:8080/",
          "height": 423
        },
        "id": "K3uhiLAz9-LG",
        "outputId": "8cd19ac9-1eee-4d09-d84e-b7a04d294333"
      },
      "execution_count": 9,
      "outputs": [
        {
          "output_type": "execute_result",
          "data": {
            "text/plain": [
              "(-0.5, 47.5, 47.5, -0.5)"
            ]
          },
          "metadata": {},
          "execution_count": 9
        },
        {
          "output_type": "display_data",
          "data": {
            "text/plain": [
              "<Figure size 640x480 with 1 Axes>"
            ],
            "image/png": "[encoded data removed]"
          },
          "metadata": {}
        }
      ]
    },
    {
      "cell_type": "code",
      "source": [
        "X = np.zeros(shape=(23705,48,48))\n",
        "for i in range(len(df[\"pixels\"])):\n",
        "    X[i] = df[\"pixels\"][i]\n",
        "print(X.dtype)\n",
        "print(X)"
      ],
      "metadata": {
        "colab": {
          "base_uri": "https://localhost:8080/"
        },
        "id": "olot4lgk-BbD",
        "outputId": "9cb83275-58b8-4d39-fe8d-57ff96523c5a"
      },
      "execution_count": 10,
      "outputs": [
        {
          "output_type": "stream",
          "name": "stdout",
          "text": [
            "float64\n",
            "[[[0.50588238 0.50196081 0.50196081 ... 0.4627451  0.3882353  0.20784314]\n",
            "  [0.50980395 0.50588238 0.50196081 ... 0.45882353 0.38431373 0.20392157]\n",
            "  [0.51372552 0.50588238 0.50980395 ... 0.44705883 0.38039216 0.19607843]\n",
            "  ...\n",
            "  [0.47450981 0.5411765  0.57647061 ... 0.59215689 0.58823532 0.58039218]\n",
            "  [0.45882353 0.53725493 0.57254905 ... 0.58431375 0.58039218 0.58039218]\n",
            "  [0.4509804  0.52941179 0.55686277 ... 0.57254905 0.57254905 0.57254905]]\n",
            "\n",
            " [[0.64313728 0.29019609 0.43529412 ... 0.43529412 0.43529412 0.40784314]\n",
            "  [0.7019608  0.27450982 0.50196081 ... 0.43921569 0.44313726 0.42352942]\n",
            "  [0.6901961  0.27843139 0.57254905 ... 0.43921569 0.43921569 0.42745098]\n",
            "  ...\n",
            "  [0.75294119 0.76862746 0.92156863 ... 0.43529412 0.48627451 0.43921569]\n",
            "  [0.90196079 0.88627452 0.9137255  ... 0.7764706  0.77254903 0.70588237]\n",
            "  [0.93333334 0.93725491 0.9137255  ... 0.71372551 0.66666669 0.58039218]]\n",
            "\n",
            " [[0.26274511 0.27450982 0.27843139 ... 0.77254903 0.76078433 0.75294119]\n",
            "  [0.25490198 0.25882354 0.27058825 ... 0.77254903 0.76078433 0.75294119]\n",
            "  [0.23921569 0.24705882 0.27058825 ... 0.77254903 0.76078433 0.74509805]\n",
            "  ...\n",
            "  [0.62352943 0.6156863  0.62352943 ... 0.44705883 0.41176471 0.41176471]\n",
            "  [0.40000001 0.44705883 0.43137255 ... 0.44705883 0.43137255 0.41960785]\n",
            "  [0.38431373 0.38039216 0.37254903 ... 0.43921569 0.43529412 0.42352942]]\n",
            "\n",
            " ...\n",
            "\n",
            " [[0.23137255 0.19607843 0.14509805 ... 0.46666667 0.44313726 0.38431373]\n",
            "  [0.21960784 0.1882353  0.17254902 ... 0.43529412 0.4509804  0.38039216]\n",
            "  [0.15686275 0.1254902  0.10196079 ... 0.42352942 0.45882353 0.39607844]\n",
            "  ...\n",
            "  [0.13725491 0.21568628 0.41568628 ... 0.36470589 0.23921569 0.25490198]\n",
            "  [0.16078432 0.15686275 0.27843139 ... 0.40784314 0.25882354 0.27843139]\n",
            "  [0.18431373 0.13725491 0.17647059 ... 0.38431373 0.30588236 0.30588236]]\n",
            "\n",
            " [[0.17647059 0.42352942 0.47058824 ... 0.12156863 0.14117648 0.20784314]\n",
            "  [0.28627452 0.36862746 0.54901963 ... 0.11372549 0.11764706 0.17647059]\n",
            "  [0.34509805 0.43529412 0.627451   ... 0.10980392 0.04705882 0.12941177]\n",
            "  ...\n",
            "  [0.02352941 0.00784314 0.03921569 ... 0.03137255 0.05490196 0.13333334]\n",
            "  [0.00784314 0.01568628 0.20392157 ... 0.0627451  0.2        0.16078432]\n",
            "  [0.00392157 0.14117648 0.27450982 ... 0.1254902  0.13725491 0.13725491]]\n",
            "\n",
            " [[0.61176473 0.63137257 0.627451   ... 0.58431375 0.56078434 0.57254905]\n",
            "  [0.60000002 0.56862748 0.64313728 ... 0.57647061 0.5411765  0.51764709]\n",
            "  [0.58039218 0.56862748 0.62352943 ... 0.58431375 0.54901963 0.55686277]\n",
            "  ...\n",
            "  [0.80000001 0.85882354 0.87058824 ... 0.74117649 0.72156864 0.67450982]\n",
            "  [0.83529413 0.82352942 0.87450981 ... 0.7647059  0.74901962 0.65882355]\n",
            "  [0.83137256 0.85490197 0.87058824 ... 0.74509805 0.72156864 0.68235296]]]\n"
          ]
        }
      ]
    },
    {
      "cell_type": "code",
      "source": [
        "ag = df['age']\n",
        "ag=ag.astype(float)\n",
        "ag= np.array(ag)\n",
        "print(ag.shape)\n",
        "print(ag)"
      ],
      "metadata": {
        "colab": {
          "base_uri": "https://localhost:8080/"
        },
        "id": "whoZ8p3u-GmO",
        "outputId": "a4f4bcf3-733b-4f4b-deb0-49a4e8bcfc0a"
      },
      "execution_count": 11,
      "outputs": [
        {
          "output_type": "stream",
          "name": "stdout",
          "text": [
            "(23705,)\n",
            "[ 1.  1.  1. ... 99. 99. 99.]\n"
          ]
        }
      ]
    },
    {
      "cell_type": "code",
      "source": [
        "g= df['gender']\n",
        "g=np.array(g)\n",
        "print(g.shape)\n",
        "print(g)"
      ],
      "metadata": {
        "colab": {
          "base_uri": "https://localhost:8080/"
        },
        "id": "LqpM3Icn-H2h",
        "outputId": "b1268e27-8525-459b-f1a2-5fdf04c88e07"
      },
      "execution_count": 12,
      "outputs": [
        {
          "output_type": "stream",
          "name": "stdout",
          "text": [
            "(23705,)\n",
            "[0 0 0 ... 1 1 1]\n"
          ]
        }
      ]
    },
    {
      "cell_type": "code",
      "source": [
        "labels_f =[]\n",
        "i=0\n",
        "while i <len(ag):\n",
        "\n",
        "  label=[]\n",
        "\n",
        "  label.append([ag[i]])\n",
        "\n",
        "  label.append([g[i]])\n",
        "\n",
        "  labels_f.append(label)\n",
        "\n",
        "  i+=1\n",
        "labels_f =np.array(labels_f)\n",
        "print(labels_f.shape)\n",
        "print(labels_f)"
      ],
      "metadata": {
        "colab": {
          "base_uri": "https://localhost:8080/"
        },
        "id": "GENlOJ4n-KRC",
        "outputId": "a325883b-79e0-421d-9051-0ab5510315ea"
      },
      "execution_count": 13,
      "outputs": [
        {
          "output_type": "stream",
          "name": "stdout",
          "text": [
            "(23705, 2, 1)\n",
            "[[[ 1.]\n",
            "  [ 0.]]\n",
            "\n",
            " [[ 1.]\n",
            "  [ 0.]]\n",
            "\n",
            " [[ 1.]\n",
            "  [ 0.]]\n",
            "\n",
            " ...\n",
            "\n",
            " [[99.]\n",
            "  [ 1.]]\n",
            "\n",
            " [[99.]\n",
            "  [ 1.]]\n",
            "\n",
            " [[99.]\n",
            "  [ 1.]]]\n"
          ]
        }
      ]
    },
    {
      "cell_type": "code",
      "source": [
        "from sklearn.model_selection import train_test_split\n",
        "X_train, X_test, Y_train, Y_test= train_test_split(X,ag,test_size=0.25)"
      ],
      "metadata": {
        "id": "oqSbio08-MPv"
      },
      "execution_count": 14,
      "outputs": []
    },
    {
      "cell_type": "code",
      "source": [
        "print(X_test.shape)"
      ],
      "metadata": {
        "colab": {
          "base_uri": "https://localhost:8080/"
        },
        "id": "l5XlYUd5-Ohf",
        "outputId": "4376f628-751e-47ec-96bf-ed4e287010bb"
      },
      "execution_count": 15,
      "outputs": [
        {
          "output_type": "stream",
          "name": "stdout",
          "text": [
            "(5927, 48, 48)\n"
          ]
        }
      ]
    },
    {
      "cell_type": "code",
      "source": [
        "print(X_train.shape)"
      ],
      "metadata": {
        "colab": {
          "base_uri": "https://localhost:8080/"
        },
        "id": "VZk5SEMD-QBh",
        "outputId": "6c51a68c-7f72-47a9-f67f-ca11dcd965a3"
      },
      "execution_count": 16,
      "outputs": [
        {
          "output_type": "stream",
          "name": "stdout",
          "text": [
            "(17778, 48, 48)\n"
          ]
        }
      ]
    },
    {
      "cell_type": "code",
      "source": [
        "print(Y_test.shape)\n",
        "print(Y_test)"
      ],
      "metadata": {
        "colab": {
          "base_uri": "https://localhost:8080/"
        },
        "id": "Ut_ejaN0-TkE",
        "outputId": "57efe923-4c04-4db9-be65-7c3e0416d21f"
      },
      "execution_count": 17,
      "outputs": [
        {
          "output_type": "stream",
          "name": "stdout",
          "text": [
            "(5927,)\n",
            "[26. 31. 26. ... 41. 26. 26.]\n"
          ]
        }
      ]
    },
    {
      "cell_type": "code",
      "source": [
        "print(Y_train.shape)\n",
        "print(Y_train)"
      ],
      "metadata": {
        "colab": {
          "base_uri": "https://localhost:8080/"
        },
        "id": "uwq5yJXl-VTu",
        "outputId": "ee2a4b0a-21cb-483a-be6d-7e37961e093c"
      },
      "execution_count": 18,
      "outputs": [
        {
          "output_type": "stream",
          "name": "stdout",
          "text": [
            "(17778,)\n",
            "[31. 31. 25. ... 34. 30. 26.]\n"
          ]
        }
      ]
    },
    {
      "cell_type": "code",
      "source": [
        "Y_train_2=[Y_train,Y_train]\n",
        "Y_test_2=[Y_test,Y_test]\n",
        "print(Y_train_2)\n",
        "print(Y_test_2)"
      ],
      "metadata": {
        "colab": {
          "base_uri": "https://localhost:8080/"
        },
        "id": "acb9zPs9-YVM",
        "outputId": "fe3a1e4c-7684-4f29-ce6b-d6ef37574477"
      },
      "execution_count": 19,
      "outputs": [
        {
          "output_type": "stream",
          "name": "stdout",
          "text": [
            "[array([31., 31., 25., ..., 34., 30., 26.]), array([31., 31., 25., ..., 34., 30., 26.])]\n",
            "[array([26., 31., 26., ..., 41., 26., 26.]), array([26., 31., 26., ..., 41., 26., 26.])]\n"
          ]
        }
      ]
    },
    {
      "cell_type": "code",
      "source": [
        "from tensorflow.keras.layers import Dropout\n",
        "from tensorflow.keras.layers import Flatten,BatchNormalization\n",
        "from tensorflow.keras.layers import Dense, MaxPooling2D,Conv2D\n",
        "from tensorflow.keras.layers import Input,Activation,Add\n",
        "from tensorflow.keras.models import Model\n",
        "from tensorflow.keras.regularizers import l2\n",
        "from tensorflow.keras.optimizers import Adam"
      ],
      "metadata": {
        "id": "6EbqhMCb-fb-"
      },
      "execution_count": 20,
      "outputs": []
    },
    {
      "cell_type": "code",
      "source": [
        "def Convolution(input_tensor,filters):\n",
        "    x = Conv2D(filters=filters,kernel_size=(3, 3),padding = 'same',strides=(1, 1),kernel_regularizer=l2(0.001))(input_tensor)\n",
        "    x = Dropout(0.1)(x)\n",
        "    x= Activation('relu')(x)\n",
        "    return x"
      ],
      "metadata": {
        "id": "ucqhWGZg-hoD"
      },
      "execution_count": 21,
      "outputs": []
    },
    {
      "cell_type": "code",
      "source": [
        "def create_model(input_shape):\n",
        "  inputs = Input((input_shape))\n",
        "  conv_1= Convolution(inputs,32)\n",
        "  maxp_1 = MaxPooling2D(pool_size = (2,2)) (conv_1)\n",
        "  conv_2 = Convolution(maxp_1,64)\n",
        "  maxp_2 = MaxPooling2D(pool_size = (2, 2)) (conv_2)\n",
        "  conv_3 = Convolution(maxp_2,128)\n",
        "  maxp_3 = MaxPooling2D(pool_size = (2, 2)) (conv_3)\n",
        "  conv_4 = Convolution(maxp_3,256)\n",
        "  maxp_4 = MaxPooling2D(pool_size = (2, 2)) (conv_4)\n",
        "  flatten= Flatten() (maxp_4)\n",
        "  dense_1= Dense(64,activation='relu')(flatten)\n",
        "  dense_2= Dense(64,activation='relu')(flatten)\n",
        "  drop_1=Dropout(0.2)(dense_1)\n",
        "  drop_2=Dropout(0.2)(dense_2)\n",
        "  output_1= Dense(1,activation=\"sigmoid\",name='sex_out')(drop_1)\n",
        "  output_2= Dense(1,activation=\"relu\",name='age_out')(drop_2)\n",
        "  model = Model(inputs=[inputs], outputs=[output_1,output_2])\n",
        "  model.compile(loss={\"sex_out\": \"binary_crossentropy\", \"age_out\": \"mae\"},\n",
        "                  optimizer=\"Adam\",\n",
        "                  metrics={\"sex_out\": \"accuracy\"})\n",
        "  return model"
      ],
      "metadata": {
        "id": "44KyTRXg-jjH"
      },
      "execution_count": 22,
      "outputs": []
    },
    {
      "cell_type": "code",
      "source": [
        "my_model=create_model(input_shape=(48,48,1))\n",
        "my_model.summary()"
      ],
      "metadata": {
        "colab": {
          "base_uri": "https://localhost:8080/"
        },
        "id": "zzdJkGQm-lxh",
        "outputId": "9dd73967-b9ac-402d-e5b9-ad3cf21900e4"
      },
      "execution_count": 23,
      "outputs": [
        {
          "output_type": "stream",
          "name": "stdout",
          "text": [
            "Model: \"model\"\n",
            "__________________________________________________________________________________________________\n",
            " Layer (type)                Output Shape                 Param #   Connected to                  \n",
            "==================================================================================================\n",
            " input_1 (InputLayer)        [(None, 48, 48, 1)]          0         []                            \n",
            "                                                                                                  \n",
            " conv2d (Conv2D)             (None, 48, 48, 32)           320       ['input_1[0][0]']             \n",
            "                                                                                                  \n",
            " dropout (Dropout)           (None, 48, 48, 32)           0         ['conv2d[0][0]']              \n",
            "                                                                                                  \n",
            " activation (Activation)     (None, 48, 48, 32)           0         ['dropout[0][0]']             \n",
            "                                                                                                  \n",
            " max_pooling2d (MaxPooling2  (None, 24, 24, 32)           0         ['activation[0][0]']          \n",
            " D)                                                                                               \n",
            "                                                                                                  \n",
            " conv2d_1 (Conv2D)           (None, 24, 24, 64)           18496     ['max_pooling2d[0][0]']       \n",
            "                                                                                                  \n",
            " dropout_1 (Dropout)         (None, 24, 24, 64)           0         ['conv2d_1[0][0]']            \n",
            "                                                                                                  \n",
            " activation_1 (Activation)   (None, 24, 24, 64)           0         ['dropout_1[0][0]']           \n",
            "                                                                                                  \n",
            " max_pooling2d_1 (MaxPoolin  (None, 12, 12, 64)           0         ['activation_1[0][0]']        \n",
            " g2D)                                                                                             \n",
            "                                                                                                  \n",
            " conv2d_2 (Conv2D)           (None, 12, 12, 128)          73856     ['max_pooling2d_1[0][0]']     \n",
            "                                                                                                  \n",
            " dropout_2 (Dropout)         (None, 12, 12, 128)          0         ['conv2d_2[0][0]']            \n",
            "                                                                                                  \n",
            " activation_2 (Activation)   (None, 12, 12, 128)          0         ['dropout_2[0][0]']           \n",
            "                                                                                                  \n",
            " max_pooling2d_2 (MaxPoolin  (None, 6, 6, 128)            0         ['activation_2[0][0]']        \n",
            " g2D)                                                                                             \n",
            "                                                                                                  \n",
            " conv2d_3 (Conv2D)           (None, 6, 6, 256)            295168    ['max_pooling2d_2[0][0]']     \n",
            "                                                                                                  \n",
            " dropout_3 (Dropout)         (None, 6, 6, 256)            0         ['conv2d_3[0][0]']            \n",
            "                                                                                                  \n",
            " activation_3 (Activation)   (None, 6, 6, 256)            0         ['dropout_3[0][0]']           \n",
            "                                                                                                  \n",
            " max_pooling2d_3 (MaxPoolin  (None, 3, 3, 256)            0         ['activation_3[0][0]']        \n",
            " g2D)                                                                                             \n",
            "                                                                                                  \n",
            " flatten (Flatten)           (None, 2304)                 0         ['max_pooling2d_3[0][0]']     \n",
            "                                                                                                  \n",
            " dense (Dense)               (None, 64)                   147520    ['flatten[0][0]']             \n",
            "                                                                                                  \n",
            " dense_1 (Dense)             (None, 64)                   147520    ['flatten[0][0]']             \n",
            "                                                                                                  \n",
            " dropout_4 (Dropout)         (None, 64)                   0         ['dense[0][0]']               \n",
            "                                                                                                  \n",
            " dropout_5 (Dropout)         (None, 64)                   0         ['dense_1[0][0]']             \n",
            "                                                                                                  \n",
            " sex_out (Dense)             (None, 1)                    65        ['dropout_4[0][0]']           \n",
            "                                                                                                  \n",
            " age_out (Dense)             (None, 1)                    65        ['dropout_5[0][0]']           \n",
            "                                                                                                  \n",
            "==================================================================================================\n",
            "Total params: 683010 (2.61 MB)\n",
            "Trainable params: 683010 (2.61 MB)\n",
            "Non-trainable params: 0 (0.00 Byte)\n",
            "__________________________________________________________________________________________________\n"
          ]
        }
      ]
    },
    {
      "cell_type": "code",
      "source": [
        "History = my_model.fit(X_train,Y_train_2,batch_size=64,validation_data=(X_test,Y_test_2),epochs=5)"
      ],
      "metadata": {
        "colab": {
          "base_uri": "https://localhost:8080/"
        },
        "id": "98ISmC9R-pIB",
        "outputId": "4aec1733-199f-4db4-89d8-c7cdf32546f2"
      },
      "execution_count": 24,
      "outputs": [
        {
          "output_type": "stream",
          "name": "stdout",
          "text": [
            "Epoch 1/5\n",
            "278/278 [==============================] - 146s 515ms/step - loss: -25896238972928.0000 - sex_out_loss: -25896238972928.0000 - age_out_loss: 35.1696 - sex_out_accuracy: 0.0478 - val_loss: -152143445098496.0000 - val_sex_out_loss: -152143445098496.0000 - val_age_out_loss: 33.4915 - val_sex_out_accuracy: 0.0459\n",
            "Epoch 2/5\n",
            "278/278 [==============================] - 134s 481ms/step - loss: -7252078585970688.0000 - sex_out_loss: -7252078585970688.0000 - age_out_loss: 33.2346 - sex_out_accuracy: 0.0479 - val_loss: -19519670730096640.0000 - val_sex_out_loss: -19519670730096640.0000 - val_age_out_loss: 33.4915 - val_sex_out_accuracy: 0.0459\n",
            "Epoch 3/5\n",
            "278/278 [==============================] - 136s 488ms/step - loss: -147722651366850560.0000 - sex_out_loss: -147722651366850560.0000 - age_out_loss: 33.2317 - sex_out_accuracy: 0.0479 - val_loss: -260189702907232256.0000 - val_sex_out_loss: -260189702907232256.0000 - val_age_out_loss: 33.4915 - val_sex_out_accuracy: 0.0459\n",
            "Epoch 4/5\n",
            "278/278 [==============================] - 133s 478ms/step - loss: -1061480688802332672.0000 - sex_out_loss: -1061480688802332672.0000 - age_out_loss: 33.2273 - sex_out_accuracy: 0.0479 - val_loss: -1464267326026153984.0000 - val_sex_out_loss: -1464267326026153984.0000 - val_age_out_loss: 33.4915 - val_sex_out_accuracy: 0.0459\n",
            "Epoch 5/5\n",
            "278/278 [==============================] - 132s 474ms/step - loss: -4441790581215068160.0000 - sex_out_loss: -4441790581215068160.0000 - age_out_loss: 33.2213 - sex_out_accuracy: 0.0479 - val_loss: -5257761249931821056.0000 - val_sex_out_loss: -5257761249931821056.0000 - val_age_out_loss: 33.4915 - val_sex_out_accuracy: 0.0459\n"
          ]
        }
      ]
    },
    {
      "cell_type": "code",
      "source": [
        "my_model.evaluate(X_test,Y_test_2)"
      ],
      "metadata": {
        "colab": {
          "base_uri": "https://localhost:8080/"
        },
        "id": "diBrdS2Y7uoz",
        "outputId": "b933def1-c107-449f-df8f-71b806b06cec"
      },
      "execution_count": 25,
      "outputs": [
        {
          "output_type": "stream",
          "name": "stdout",
          "text": [
            "186/186 [==============================] - 8s 44ms/step - loss: -5257760700176007168.0000 - sex_out_loss: -5257760700176007168.0000 - age_out_loss: 33.4915 - sex_out_accuracy: 0.0459\n"
          ]
        },
        {
          "output_type": "execute_result",
          "data": {
            "text/plain": [
              "[-5.257760700176007e+18,\n",
              " -5.257760700176007e+18,\n",
              " 33.491477966308594,\n",
              " 0.04589168354868889]"
            ]
          },
          "metadata": {},
          "execution_count": 25
        }
      ]
    },
    {
      "cell_type": "code",
      "source": [
        "pred=my_model.predict(X_test)\n",
        "pred[1]"
      ],
      "metadata": {
        "colab": {
          "base_uri": "https://localhost:8080/"
        },
        "id": "LtgFk8UM7_He",
        "outputId": "ae4c1815-d5bb-471f-e4c3-1056e4a6318d"
      },
      "execution_count": 27,
      "outputs": [
        {
          "output_type": "stream",
          "name": "stdout",
          "text": [
            "186/186 [==============================] - 13s 66ms/step\n"
          ]
        },
        {
          "output_type": "execute_result",
          "data": {
            "text/plain": [
              "array([[0.],\n",
              "       [0.],\n",
              "       [0.],\n",
              "       ...,\n",
              "       [0.],\n",
              "       [0.],\n",
              "       [0.]], dtype=float32)"
            ]
          },
          "metadata": {},
          "execution_count": 27
        }
      ]
    },
    {
      "cell_type": "code",
      "source": [
        "def test_image(ind,X,Model):\n",
        "\n",
        "  plt.imshow(X[ind])\n",
        "\n",
        "  image_test=X[ind]\n",
        "\n",
        "  pred_1=my_model.predict(np.array([image_test]))\n",
        "\n",
        "  sex_f=['Female','Male']\n",
        "\n",
        "  age=int(np.round(pred_1[1][0]))\n",
        "\n",
        "  sex=int(np.round(pred_1[0][0]))\n",
        "\n",
        "  print(\"Predicted Age: \"+ str(age))\n",
        "\n",
        "  print(\"Predicted Sex: \"+ sex_f[sex])\n",
        "\n",
        "test_image(1900,X, Model)"
      ],
      "metadata": {
        "colab": {
          "base_uri": "https://localhost:8080/",
          "height": 483
        },
        "id": "iB44KdGu82TF",
        "outputId": "ea041536-49b1-432f-8b0a-c2b53c3f20c9"
      },
      "execution_count": 30,
      "outputs": [
        {
          "output_type": "stream",
          "name": "stdout",
          "text": [
            "1/1 [==============================] - 0s 42ms/step\n",
            "Predicted Age: 0\n",
            "Predicted Sex: Male\n"
          ]
        },
        {
          "output_type": "display_data",
          "data": {
            "text/plain": [
              "<Figure size 640x480 with 1 Axes>"
            ],
            "image/png": "[encoded data removed]"
          },
          "metadata": {}
        }
      ]
    }
  ]
}